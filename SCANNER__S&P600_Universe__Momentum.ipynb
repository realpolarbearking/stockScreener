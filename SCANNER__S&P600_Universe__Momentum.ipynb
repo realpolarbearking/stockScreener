{
  "nbformat": 4,
  "nbformat_minor": 0,
  "metadata": {
    "colab": {
      "name": "SCANNER__S&P600_Universe__Momentum.ipynb",
      "provenance": [],
      "collapsed_sections": [],
      "authorship_tag": "ABX9TyNfjzlYBpJQEfZ2txMrjQaX",
      "include_colab_link": true
    },
    "kernelspec": {
      "display_name": "Python 3",
      "name": "python3"
    },
    "language_info": {
      "name": "python"
    }
  },
  "cells": [
    {
      "cell_type": "markdown",
      "metadata": {
        "id": "view-in-github",
        "colab_type": "text"
      },
      "source": [
        "<a href=\"https://colab.research.google.com/github/realpolarbearking/stockScreener/blob/main/SCANNER__S%26P600_Universe__Momentum.ipynb\" target=\"_parent\"><img src=\"https://colab.research.google.com/assets/colab-badge.svg\" alt=\"Open In Colab\"/></a>"
      ]
    },
    {
      "cell_type": "code",
      "metadata": {
        "colab": {
          "base_uri": "https://localhost:8080/"
        },
        "id": "VfJQx7zEUAtu",
        "outputId": "8499f982-2d81-4b67-f71c-aed724c63c1d"
      },
      "source": [
        "!pip install pandas_datareader --upgrade"
      ],
      "execution_count": null,
      "outputs": [
        {
          "output_type": "stream",
          "name": "stdout",
          "text": [
            "Requirement already satisfied: pandas_datareader in /usr/local/lib/python3.7/dist-packages (0.9.0)\n",
            "Collecting pandas_datareader\n",
            "  Downloading pandas_datareader-0.10.0-py3-none-any.whl (109 kB)\n",
            "\u001b[K     |████████████████████████████████| 109 kB 5.1 MB/s \n",
            "\u001b[?25hRequirement already satisfied: lxml in /usr/local/lib/python3.7/dist-packages (from pandas_datareader) (4.2.6)\n",
            "Requirement already satisfied: pandas>=0.23 in /usr/local/lib/python3.7/dist-packages (from pandas_datareader) (1.1.5)\n",
            "Requirement already satisfied: requests>=2.19.0 in /usr/local/lib/python3.7/dist-packages (from pandas_datareader) (2.23.0)\n",
            "Requirement already satisfied: pytz>=2017.2 in /usr/local/lib/python3.7/dist-packages (from pandas>=0.23->pandas_datareader) (2018.9)\n",
            "Requirement already satisfied: numpy>=1.15.4 in /usr/local/lib/python3.7/dist-packages (from pandas>=0.23->pandas_datareader) (1.19.5)\n",
            "Requirement already satisfied: python-dateutil>=2.7.3 in /usr/local/lib/python3.7/dist-packages (from pandas>=0.23->pandas_datareader) (2.8.2)\n",
            "Requirement already satisfied: six>=1.5 in /usr/local/lib/python3.7/dist-packages (from python-dateutil>=2.7.3->pandas>=0.23->pandas_datareader) (1.15.0)\n",
            "Requirement already satisfied: urllib3!=1.25.0,!=1.25.1,<1.26,>=1.21.1 in /usr/local/lib/python3.7/dist-packages (from requests>=2.19.0->pandas_datareader) (1.24.3)\n",
            "Requirement already satisfied: certifi>=2017.4.17 in /usr/local/lib/python3.7/dist-packages (from requests>=2.19.0->pandas_datareader) (2021.10.8)\n",
            "Requirement already satisfied: idna<3,>=2.5 in /usr/local/lib/python3.7/dist-packages (from requests>=2.19.0->pandas_datareader) (2.10)\n",
            "Requirement already satisfied: chardet<4,>=3.0.2 in /usr/local/lib/python3.7/dist-packages (from requests>=2.19.0->pandas_datareader) (3.0.4)\n",
            "Installing collected packages: pandas-datareader\n",
            "  Attempting uninstall: pandas-datareader\n",
            "    Found existing installation: pandas-datareader 0.9.0\n",
            "    Uninstalling pandas-datareader-0.9.0:\n",
            "      Successfully uninstalled pandas-datareader-0.9.0\n",
            "Successfully installed pandas-datareader-0.10.0\n"
          ]
        }
      ]
    },
    {
      "cell_type": "markdown",
      "metadata": {
        "id": "qC5SGCL9gssE"
      },
      "source": [
        ""
      ]
    },
    {
      "cell_type": "code",
      "metadata": {
        "id": "bvaGX5lcqxIz"
      },
      "source": [
        "from pandas_datareader import data as pdr\n",
        "from scipy.stats import linregress\n",
        "import matplotlib.pyplot as plt\n",
        "import bs4 as bs\n",
        "import requests\n",
        "import pandas as pd\n",
        "import numpy as np\n",
        "import datetime as dt\n",
        "import time"
      ],
      "execution_count": null,
      "outputs": []
    },
    {
      "cell_type": "code",
      "metadata": {
        "id": "llz62dw6q_L4"
      },
      "source": [
        "# Variables\n",
        "start_date = dt.datetime.now() - dt.timedelta(days=365 * 2)\n",
        "end_date = dt.datetime.now()\n",
        "index_name = 'SPY'\n",
        "index_df = pdr.get_data_yahoo(index_name, start_date, end_date)"
      ],
      "execution_count": null,
      "outputs": []
    },
    {
      "cell_type": "code",
      "metadata": {
        "colab": {
          "base_uri": "https://localhost:8080/"
        },
        "id": "o9iVJRzhrAqA",
        "outputId": "1a8d2001-33eb-4cc5-a3e6-52fa9692a692"
      },
      "source": [
        "#get S&P600 tickers from web\n",
        "resp = requests.get('https://en.wikipedia.org/wiki/List_of_S%26P_600_companies')\n",
        "soup = bs.BeautifulSoup(resp.text, 'lxml')\n",
        "table = soup.find('table', {'class': 'wikitable sortable'})\n",
        "\n",
        "tickers = []\n",
        "\n",
        "for row in table.findAll('tr')[1:]:\n",
        "        ticker = row.findAll('td')[1].text\n",
        "        \n",
        "        tickers.append(ticker)\n",
        "\n",
        "tickers = list(map(lambda s: s.strip(), tickers))\n",
        "tickerdf = pd.DataFrame(tickers,columns=['ticker'])\n",
        "print(tickerdf)"
      ],
      "execution_count": null,
      "outputs": [
        {
          "output_type": "stream",
          "name": "stdout",
          "text": [
            "    ticker\n",
            "0      AAN\n",
            "1     AAON\n",
            "2      AAT\n",
            "3     AAWW\n",
            "4     ABCB\n",
            "..     ...\n",
            "596   XNCR\n",
            "597   XPER\n",
            "598   ZEUS\n",
            "599   ZUMZ\n",
            "600   ZYXI\n",
            "\n",
            "[601 rows x 1 columns]\n"
          ]
        }
      ]
    },
    {
      "cell_type": "code",
      "metadata": {
        "id": "MqTMJCW0rTny"
      },
      "source": [
        "# Momentum Calculating Method \n",
        "\"\"\"...............................................\n",
        "Momentum(Volatility Adjusted)\n",
        "  = Exponential_Regression_Slope * R-Squared \n",
        "...............................................\"\"\"\n",
        "\n",
        "def mom(closes):\n",
        "    returns = np.log(closes)\n",
        "    x = np.arange(len(returns))\n",
        "    slope, _, rvalue, _, _ = linregress(x, returns)\n",
        "    return ((1 + slope) ** 252) * (rvalue ** 2) \n",
        "\n",
        "def ROC(df, n):  \n",
        "    M = df['Adj Close'].diff(n - 1)  \n",
        "    N = df['Adj Close'].shift(n - 1)  \n",
        "    ROC = pd.Series(((M / N) * 100), name = 'ROC_' + str(n))   \n",
        "    return ROC\n",
        "\n",
        "def RS(df, df1, n):  \n",
        "    rs = ROC(df, n) / ROC(df1, n)\n",
        "    return rs\n",
        "\n",
        "# Position Sizing Method\n",
        "\"\"\"...............................................\n",
        "size = (AccountValue * RiskFactor) / ATR(20)\n",
        "def wwma(values, n):\n",
        "    return values.ewm(alpha=1/n, adjust=False).mean()\n",
        "\n",
        "def atrMom(df, atrLength):\n",
        "    data = df.copy()\n",
        "    high = data['High']\n",
        "    low = data['Low']\n",
        "    close = data['Adj Close']\n",
        "    data['tr0'] = abs(np.log(high - low))\n",
        "    data['tr1'] = abs(np.log(high - close.shift()))\n",
        "    data['tr2'] = abs(np.log(low - close.shift()))\n",
        "    tr = data[['tr0', 'tr1', 'tr2']].max(axis=1)\n",
        "    size =((accountValue*riskFactor) / wwma(tr, atrLength)) #true_range.rolling(atrLength).sum()/atrLength\n",
        "\n",
        "    return size\n",
        "...............................................\"\"\"\n",
        "\n",
        "def gap(df,n):\n",
        "    return (np.log(df['Adj Close']).diff().abs() * 100) > n\n",
        "\n",
        "def trendFilter(df):\n",
        "    emaFast = df['Adj Close'].ewm(span=50, adjust=False).mean()\n",
        "    emaSlow = df['Adj Close'].ewm(span=150, adjust=False).mean()\n",
        "    emaSlowest = df['Adj Close'].ewm(span=200, adjust=False).mean()\n",
        "    return (df['Adj Close'] > emaSlow) & (df['Adj Close'] > emaSlowest) & (emaFast > emaSlow) & (emaFast > emaSlowest)\n",
        "\n",
        "def rTwo(closes):\n",
        "    returns = np.log(closes)\n",
        "    x = np.arange(len(returns))\n",
        "    slope, _, rvalue, _, stderr = linregress(x, returns)\n",
        "    return (rvalue ** 2) "
      ],
      "execution_count": null,
      "outputs": []
    },
    {
      "cell_type": "code",
      "metadata": {
        "id": "OxfCAmtmrdCP",
        "colab": {
          "base_uri": "https://localhost:8080/"
        },
        "outputId": "73eb7bbc-0c8f-4090-fd7b-09f2fbeeed92"
      },
      "source": [
        "momentumPeriod = 90\n",
        "rsPeriod = 253\n",
        "\n",
        "upTrends = []\n",
        "rsList = []\n",
        "yes_momentum = []\n",
        "vols = []\n",
        "ts = []\n",
        "\n",
        "for ticker in tickers:\n",
        "  try:\n",
        "    df = pdr.get_data_yahoo(ticker, start_date, end_date)\n",
        "    df = df[df.Volume != 0]\n",
        "\n",
        "    momentums = df['Adj Close'].rolling(momentumPeriod).apply(mom, raw=False)[-1]\n",
        "    #momentums = df['Adj Close'].rolling(momentumPeriod).apply(slope, raw=False)[-1]\n",
        "\n",
        "    vol = df['Adj Close'].rolling(momentumPeriod).apply(rTwo, raw=False)[-1]\n",
        "\n",
        "    upYes = trendFilter(df)[-1]\n",
        "    upTrends.extend([upYes])\n",
        "\n",
        "    rsYes = RS(df, index_df, rsPeriod)[-1]\n",
        "    rsList.extend([rsYes])\n",
        "    \n",
        "    ts.append(ticker)\n",
        "    yes_momentum.extend([momentums])\n",
        "    vols.extend([vol])\n",
        "\n",
        "    print (f'Ticker: {ticker}; Momentum: {momentums}; Volatility: {vol}; UP_TREND: {upYes}; RelativeStrength: {rsYes}\\n')\n",
        "    \n",
        "    time.sleep(1)\n",
        "  except :\n",
        "    pass"
      ],
      "execution_count": null,
      "outputs": [
        {
          "output_type": "stream",
          "name": "stdout",
          "text": [
            "Ticker: AAN; Momentum: 0.2606514203719314; Volatility: 0.40209188962281883; UP_TREND: False; RelativeStrength: 0.6362445197719468\n",
            "\n",
            "Ticker: AAON; Momentum: 1.7334289444030817; Volatility: 0.8697241381998871; UP_TREND: True; RelativeStrength: 0.3533362585347138\n",
            "\n",
            "Ticker: AAT; Momentum: 0.295260376549362; Volatility: 0.3696469549455831; UP_TREND: True; RelativeStrength: 1.6210962186705542\n",
            "\n",
            "Ticker: AAWW; Momentum: 1.5217410001606182; Volatility: 0.7900099535167588; UP_TREND: True; RelativeStrength: 2.946064361832404\n",
            "\n",
            "Ticker: ABCB; Momentum: 0.025286418707461955; Volatility: 0.023425755497031187; UP_TREND: True; RelativeStrength: 1.029062762676524\n",
            "\n",
            "Ticker: ABG; Momentum: 0.16341649758231377; Volatility: 0.2583363407813277; UP_TREND: False; RelativeStrength: 0.32146279479433304\n",
            "\n",
            "Ticker: ABM; Momentum: 0.20511949230754156; Volatility: 0.26892360341117727; UP_TREND: False; RelativeStrength: 0.19934542573457892\n",
            "\n",
            "Ticker: ABTX; Momentum: 1.2288186239532075; Volatility: 0.7041083761283637; UP_TREND: True; RelativeStrength: 0.8364305950412027\n",
            "\n",
            "Ticker: ACA; Momentum: 0.42970940404101643; Volatility: 0.33216052231382187; UP_TREND: False; RelativeStrength: -0.5325058882594002\n",
            "\n",
            "Ticker: ACLS; Momentum: 3.3180804375523496; Volatility: 0.8526666507999132; UP_TREND: True; RelativeStrength: 5.162534426656263\n",
            "\n",
            "Ticker: ADC; Momentum: 0.01937915538914411; Volatility: 0.020098548510473453; UP_TREND: True; RelativeStrength: 0.485422086624167\n",
            "\n",
            "Ticker: ADTN; Momentum: 0.6833616227145852; Volatility: 0.4312364926099712; UP_TREND: True; RelativeStrength: 1.4760234517182969\n",
            "\n",
            "Ticker: ADUS; Momentum: 0.27288011502322435; Volatility: 0.18431672688945144; UP_TREND: False; RelativeStrength: -1.1578555692920802\n",
            "\n"
          ]
        }
      ]
    },
    {
      "cell_type": "code",
      "metadata": {
        "colab": {
          "base_uri": "https://localhost:8080/"
        },
        "id": "yddosydOruAa",
        "outputId": "d1ddfb3c-5601-487a-cd18-7fdd930ec394"
      },
      "source": [
        "hl_hm = pd.DataFrame(list(zip(ts, yes_momentum, vols, rsList, upTrends)), columns=['TICKER', 'MOMENTUM', 'VOLATILITY', \"RS\", \"UP\"])\n",
        "momentumRank = hl_hm['MOMENTUM'].rank(method='max', ascending=True)\n",
        "hl_hm['OVERALL_RANK'] =  momentumRank \n",
        "hl_hm = hl_hm.sort_values(by='OVERALL_RANK', ascending=False)\n",
        "hl_hm = hl_hm[hl_hm.RS > 1.0]\n",
        "hl_hm = hl_hm[hl_hm.UP]\n",
        "hl_hm = hl_hm[hl_hm.VOLATILITY > 0.5]\n",
        "print(hl_hm.head(30), '\\n')"
      ],
      "execution_count": null,
      "outputs": [
        {
          "output_type": "stream",
          "name": "stdout",
          "text": [
            "    TICKER  MOMENTUM  VOLATILITY         RS    UP  OVERALL_RANK\n",
            "188   ENTA  7.414841    0.912327   3.218182  True         596.0\n",
            "575   VRTV  6.469456    0.854704  19.581852  True         595.0\n",
            "176   ECHO  6.350233    0.832431   1.927833  True         594.0\n",
            "398   OPRX  5.825177    0.914830   9.579284  True         593.0\n",
            "503   SPSC  5.056174    0.875626   1.715187  True         592.0\n",
            "584   WIRE  4.640553    0.860371   5.296206  True         591.0\n",
            "42    ARCB  4.415889    0.889398   5.667370  True         590.0\n",
            "522    TBK  4.049695    0.878660   5.437578  True         589.0\n",
            "48    ASIX  3.920721    0.916645   5.725924  True         588.0\n",
            "463    RRC  3.886782    0.689594   8.348165  True         587.0\n",
            "434   PRFT  3.702480    0.874554   6.879344  True         586.0\n",
            "172   DSPG  3.640739    0.805840   1.309340  True         585.0\n",
            "333      M  3.619071    0.828097  10.940818  True         584.0\n",
            "101   CEIX  3.505503    0.726562  13.517018  True         583.0\n",
            "102   CELH  3.295259    0.834435   9.897636  True         582.0\n",
            "155   CYTK  3.205110    0.687695   3.755679  True         580.0\n",
            "253    HCC  3.148815    0.779477   1.167010  True         579.0\n",
            "496     SM  3.104774    0.556218  53.095499  True         578.0\n",
            "477   SCSC  2.985769    0.823756   2.042327  True         576.0\n",
            "569   VICR  2.918444    0.964290   2.368736  True         575.0\n",
            "24    ALEX  2.695580    0.956359   2.930909  True         574.0\n",
            "200   EZPW  2.434187    0.840143   1.752743  True         573.0\n",
            "10    ACLS  2.430945    0.773918   3.945157  True         572.0\n",
            "254    HCI  2.426020    0.842627   5.251627  True         571.0\n",
            "577   VTOL  2.360577    0.808640   1.837029  True         570.0\n",
            "556   UNFI  2.247391    0.714873   6.223538  True         569.0\n",
            "341    MDP  2.217885    0.689909   9.170332  True         568.0\n",
            "139   CRVL  2.184870    0.836838   3.259475  True         567.0\n",
            "336   MATX  2.179815    0.839574   1.734768  True         566.0\n",
            "214   FIZZ  2.108322    0.814420   1.989851  True         563.0 \n",
            "\n"
          ]
        }
      ]
    }
  ]
}